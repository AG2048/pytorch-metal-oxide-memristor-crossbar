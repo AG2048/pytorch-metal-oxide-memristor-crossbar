{
 "cells": [
  {
   "cell_type": "markdown",
   "id": "94fd5b9c-e581-4207-acf6-3ba3409749f1",
   "metadata": {},
   "source": [
    "## This notebook studies the stochasitcity of the crossbar model"
   ]
  },
  {
   "cell_type": "code",
   "execution_count": 1,
   "id": "6cd9f1c9-d9b4-4762-b8b2-a067ef7f0b79",
   "metadata": {
    "tags": []
   },
   "outputs": [],
   "source": [
    "import sys\n",
    "sys.path.append(\"..\")"
   ]
  },
  {
   "cell_type": "code",
   "execution_count": 2,
   "id": "ae5f0f21-1219-4ec9-806a-2ddc65adb479",
   "metadata": {},
   "outputs": [],
   "source": [
    "import matplotlib.pyplot as plt\n",
    "from memristor.devices import StaticMemristor, DynamicMemristor, DynamicMemristorFreeRange\n",
    "from memristor.crossbar.model import LineResistanceCrossbar\n",
    "import torch"
   ]
  },
  {
   "cell_type": "markdown",
   "id": "c8a02c67-6419-4b48-a519-2dfbe78b409b",
   "metadata": {},
   "source": [
    "#### First, find appropriate programming voltage for each bitline and wordline to ensure v_p is within range"
   ]
  },
  {
   "cell_type": "markdown",
   "id": "3647c34b-ad66-4e95-a808-adb3854a847f",
   "metadata": {},
   "source": [
    "range [−0.8 V to −1.5 V]/[0.8 V to 1.15 V]"
   ]
  },
  {
   "cell_type": "code",
   "execution_count": 3,
   "id": "e5aba6b7-d355-45d1-a2cc-f269e66756a9",
   "metadata": {},
   "outputs": [],
   "source": [
    "torch.set_default_dtype(torch.float64) # set default torch value type"
   ]
  },
  {
   "cell_type": "code",
   "execution_count": 4,
   "id": "98d35cbf-2b5c-495d-8b13-8ce70aa0a7d4",
   "metadata": {
    "jupyter": {
     "source_hidden": true
    },
    "tags": []
   },
   "outputs": [],
   "source": [
    "def plot_voltage_drop(crossbar, v_wl_applied, v_bl_applied):\n",
    "    crossbar.lineres_memristive_vmm(v_wl_applied, v_bl_applied, iter=1)\n",
    "    M = torch.t(crossbar.cache[\"V_wl\"]-crossbar.cache[\"V_bl\"])\n",
    "    im = plt.imshow(M,\n",
    "                    interpolation='none', aspect='equal')\n",
    "    ax = plt.gca()\n",
    "    # no need for axis\n",
    "    ax.get_xaxis().set_visible(False)\n",
    "    ax.get_yaxis().set_visible(False)\n",
    "    ax.set_title(\"Cell voltage TiOx crossbar\")\n",
    "    ax.grid(which='minor', color='w', linestyle='-', linewidth=1)\n",
    "    plt.colorbar()\n",
    "    # plt.matshow(torch.t(crossbar.cache[\"V_wl\"]-crossbar.cache[\"V_bl\"]))\n",
    "    # plt.grid(visible=True)\n",
    "    plt.show()\n",
    "\n",
    "    # word line voltage\n",
    "    M = torch.t(crossbar.cache[\"V_wl\"])\n",
    "    im = plt.imshow(M,\n",
    "                    interpolation='none', aspect='equal')\n",
    "    ax = plt.gca()\n",
    "    # no need for axis\n",
    "    ax.get_xaxis().set_visible(False)\n",
    "    ax.get_yaxis().set_visible(False)\n",
    "    ax.set_title(\"Word Line voltage TiOx crossbar\")\n",
    "    ax.grid(which='minor', color='w', linestyle='-', linewidth=1)\n",
    "    plt.colorbar()\n",
    "    # plt.matshow(torch.t(crossbar.cache[\"V_wl\"]-crossbar.cache[\"V_bl\"]))\n",
    "    # plt.grid(visible=True)\n",
    "    plt.show()\n",
    "\n",
    "\n",
    "    # bit line voltage\n",
    "    M = torch.t(crossbar.cache[\"V_bl\"])\n",
    "    im = plt.imshow(M,\n",
    "                    interpolation='none', aspect='equal')\n",
    "    ax = plt.gca()\n",
    "    # no need for axis\n",
    "    ax.get_xaxis().set_visible(False)\n",
    "    ax.get_yaxis().set_visible(False)\n",
    "    ax.set_title(\"Bit Line voltage TiOx crossbar\")\n",
    "    ax.grid(which='minor', color='w', linestyle='-', linewidth=1)\n",
    "    plt.colorbar()\n",
    "    # plt.matshow(torch.t(crossbar.cache[\"V_wl\"]-crossbar.cache[\"V_bl\"]))\n",
    "    # plt.grid(visible=True)\n",
    "    plt.show()"
   ]
  },
  {
   "cell_type": "code",
   "execution_count": 5,
   "id": "ca66d35d-3729-4b3c-b6b3-9826b875cf42",
   "metadata": {},
   "outputs": [],
   "source": [
    "crossbar_params = {'r_wl': 20, 'r_bl': 20, 'r_in':10, 'r_out':10, 'V_SOURCE_MODE':'|_|'}\n",
    "memristor_model = StaticMemristor\n",
    "memristor_params = {'frequency': 1e8, 'temperature': 273 + 40}\n",
    "ideal_w = 200*torch.ones(48, 16)*1e-6\n",
    "v_wl_applied = 0*torch.ones(16,)#torch.FloatTensor(32,).uniform_(-0.4, 0.4).double()\n",
    "v_bl_applied = torch.cat([torch.linspace(1.6, 2.7,16), 2.7*torch.ones(16,),torch.linspace(2.7, 1.6,16)], dim=0) #1.7*torch.ones(48,)#torch.zeros(32, )"
   ]
  },
  {
   "cell_type": "code",
   "execution_count": null,
   "id": "d17e747d-d4d4-41eb-8d4a-d8934ed7a993",
   "metadata": {},
   "outputs": [],
   "source": [
    "crossbar = LineResistanceCrossbar(memristor_model, memristor_params, ideal_w, crossbar_params)\n"
   ]
  },
  {
   "cell_type": "markdown",
   "id": "95e9c6c4-b187-4c0c-a028-016359a20fc0",
   "metadata": {
    "tags": []
   },
   "source": [
    "##### Reset operation cell voltage drop"
   ]
  },
  {
   "cell_type": "code",
   "execution_count": null,
   "id": "d8cb32b7-9fe6-4528-9c6d-dd429060a8a9",
   "metadata": {},
   "outputs": [],
   "source": [
    "plot_voltage_drop(crossbar, 0*torch.ones(16,), v_bl_applied)"
   ]
  },
  {
   "cell_type": "markdown",
   "id": "3725df41-96a3-4519-ab9d-ed65fae2cf86",
   "metadata": {},
   "source": [
    "##### Set operation cell voltage drop"
   ]
  },
  {
   "cell_type": "code",
   "execution_count": null,
   "id": "962a3b3c-bebb-45dc-ad9d-cb23d681d169",
   "metadata": {},
   "outputs": [],
   "source": [
    "plot_voltage_drop(crossbar, v_wl_applied, 0*torch.ones(16,))"
   ]
  }
 ],
 "metadata": {
  "kernelspec": {
   "display_name": "Python 3",
   "language": "python",
   "name": "python3"
  },
  "language_info": {
   "codemirror_mode": {
    "name": "ipython",
    "version": 3
   },
   "file_extension": ".py",
   "mimetype": "text/x-python",
   "name": "python",
   "nbconvert_exporter": "python",
   "pygments_lexer": "ipython3",
   "version": "3.8.5"
  }
 },
 "nbformat": 4,
 "nbformat_minor": 5
}
